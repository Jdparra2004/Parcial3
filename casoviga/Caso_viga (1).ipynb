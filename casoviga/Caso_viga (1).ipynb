{
  "cells": [
    {
      "cell_type": "markdown",
      "metadata": {
        "id": "TYimd_NZXuyG"
      },
      "source": [
        "**Caso de Viga sometida a carga:**\n",
        "\n",
        "condiciones de frontera\n",
        "\n",
        "y(0)=0\n",
        "\n",
        "y(L)=0\n",
        "\n",
        "Dominio [0, L]\n"
      ]
    },
    {
      "cell_type": "code",
      "execution_count": 29,
      "metadata": {
        "id": "Ad173hfBVvc4"
      },
      "outputs": [],
      "source": [
        "#Librerias\n",
        "import numpy as np\n",
        "import matplotlib.pyplot as plt\n",
        "from scipy.integrate import solve_bvp"
      ]
    },
    {
      "cell_type": "code",
      "execution_count": 30,
      "metadata": {
        "id": "q6qfwKRtYqdD"
      },
      "outputs": [],
      "source": [
        "# Parámetros del problema\n",
        "E = 30 * 1000  # Pasar de Ksi a psi (módulo de elasticidad)\n",
        "I = 800  # en in^4 (momento de inercia de la viga)\n",
        "w = 1 * 1000 / 12  # pasar de kip/ft a lb/in (carga distribuida)\n",
        "L = 10 * 12  # pasar de pies a pulgadas (longitud de la viga)\n",
        "n=100 #Número de nodos en la malla"
      ]
    },
    {
      "cell_type": "code",
      "execution_count": 31,
      "metadata": {
        "id": "9rQxTrJWZIvd"
      },
      "outputs": [],
      "source": [
        "#Resolver por Método de disparo lineal\n",
        "# 1 Definir la ecuación diferencial\n",
        "def ecuacion(x, y):\n",
        "  return [y[1], (w * L * x - w * x**2) / (2 * E * I)] # y[1] es la derivada de la deflexión\n"
      ]
    },
    {
      "cell_type": "code",
      "execution_count": 32,
      "metadata": {
        "id": "4pthbpTdf6cN"
      },
      "outputs": [],
      "source": [
        "# Condiciones de frontera\n",
        "def c_frontera(y1, y2):\n",
        "  return [y1[0], y2[0]]  # y(0) = 0 y y(L) = 0\n",
        "\n",
        "#Arreglo de puntos\n",
        "t_puntos = np.linspace(0, L, 100)\n"
      ]
    },
    {
      "cell_type": "code",
      "execution_count": 33,
      "metadata": {
        "id": "K4YrlQ8ggCKQ"
      },
      "outputs": [],
      "source": [
        "# Inicializar las condiciones de frontera\n",
        "y0 = np.zeros((2, len(t_puntos)))\n",
        "y0[0, 0] = 0  # Condición inicial y(0) = 0\n",
        "y0[1, 0] = 1  # Condición inicial arbitraria para y'(0)"
      ]
    },
    {
      "cell_type": "code",
      "execution_count": 34,
      "metadata": {
        "id": "t8TCuthlgRXj"
      },
      "outputs": [],
      "source": [
        "def disparo_lineal(): # Resolver utilizando solve_bvp\n",
        "  sln = solve_bvp(ecuacion, c_frontera, t_puntos, y0)\n",
        "  return sln.y[0]\n",
        "\n",
        "resultados_disparo = disparo_lineal()"
      ]
    },
    {
      "cell_type": "code",
      "execution_count": 35,
      "metadata": {
        "id": "Hsb7erxHrPTj"
      },
      "outputs": [],
      "source": [
        "def dif_finitas(n):\n",
        "  dx = L / (n + 1)  # Paso de la malla\n",
        "  x_finitas = np.linspace(0, L, n + 2)\n",
        "\n",
        "  sln_finitas = np.zeros(n + 2)  # Vector de resultados\n",
        "  A = np.zeros((n, n))  # Matriz del sistema\n",
        "  b = np.zeros(n)  # Vector de términos independientes\n",
        "\n",
        "  # Llenar la matriz A y el vector b\n",
        "  for i in range(n):\n",
        "    A[i, i+1] = 2 * E * I / dx**2  # Diagonal principal\n",
        "    if i > 0:\n",
        "      A[i,i-1] = -E * I / dx**2  # Diagonal inferior\n",
        "    if i < n - 1:\n",
        "      A[i, i ] = -E * I / dx**2  # Diagonal superior\n",
        "      b[i] = w * dx**2 / (E*I)\n",
        "\n",
        "\n",
        "  # Resolver el sistema de ecuaciones\n",
        "  sln_finitas[1:-1] = np.linalg.solve(A, b)\n",
        "\n",
        "  # Deflexión 0 en los extremos\n",
        "  sln_finitas[0] = 0\n",
        "  sln_finitas[-1] = 0\n",
        "\n",
        "  return sln_finitas"
      ]
    },
    {
      "cell_type": "code",
      "execution_count": 36,
      "metadata": {
        "id": "H1tZiDoolL-s"
      },
      "outputs": [],
      "source": [
        "# Solución exacta dada en el problema para la deflexión de la viga\n",
        "def sln_exacta(x):\n",
        "  return (w * L * x**3) / (12 * E * I) - (w * x**4) / (24 * E * I) - (w * L**3 * x) / (24 * E * I)"
      ]
    },
    {
      "cell_type": "code",
      "execution_count": 37,
      "metadata": {
        "colab": {
          "base_uri": "https://localhost:8080/",
          "height": 332
        },
        "id": "nHczwezAsMJf",
        "outputId": "d3251225-b125-4793-9589-81a9fd541e5d"
      },
      "outputs": [
        {
          "ename": "IndexError",
          "evalue": "index 100 is out of bounds for axis 1 with size 100",
          "output_type": "error",
          "traceback": [
            "\u001b[0;31m---------------------------------------------------------------------------\u001b[0m",
            "\u001b[0;31mIndexError\u001b[0m                                Traceback (most recent call last)",
            "\u001b[0;32m<ipython-input-37-e5f5273e8c8e>\u001b[0m in \u001b[0;36m<cell line: 5>\u001b[0;34m()\u001b[0m\n\u001b[1;32m      3\u001b[0m \u001b[0my_disparo\u001b[0m \u001b[0;34m=\u001b[0m \u001b[0mresultados_disparo\u001b[0m\u001b[0;34m\u001b[0m\u001b[0;34m\u001b[0m\u001b[0m\n\u001b[1;32m      4\u001b[0m \u001b[0;34m\u001b[0m\u001b[0m\n\u001b[0;32m----> 5\u001b[0;31m \u001b[0mx_finitas\u001b[0m\u001b[0;34m,\u001b[0m \u001b[0my_finitas\u001b[0m \u001b[0;34m=\u001b[0m \u001b[0mdif_finitas\u001b[0m\u001b[0;34m(\u001b[0m\u001b[0mn\u001b[0m\u001b[0;34m)\u001b[0m\u001b[0;34m\u001b[0m\u001b[0;34m\u001b[0m\u001b[0m\n\u001b[0m\u001b[1;32m      6\u001b[0m \u001b[0;34m\u001b[0m\u001b[0m\n\u001b[1;32m      7\u001b[0m \u001b[0mx_exacta\u001b[0m \u001b[0;34m=\u001b[0m \u001b[0mnp\u001b[0m\u001b[0;34m.\u001b[0m\u001b[0mlinspace\u001b[0m\u001b[0;34m(\u001b[0m\u001b[0;36m0\u001b[0m\u001b[0;34m,\u001b[0m \u001b[0mL\u001b[0m\u001b[0;34m,\u001b[0m \u001b[0;36m100\u001b[0m\u001b[0;34m)\u001b[0m\u001b[0;34m\u001b[0m\u001b[0;34m\u001b[0m\u001b[0m\n",
            "\u001b[0;32m<ipython-input-35-7bb37fdc676e>\u001b[0m in \u001b[0;36mdif_finitas\u001b[0;34m(n)\u001b[0m\n\u001b[1;32m      9\u001b[0m   \u001b[0;31m# Llenar la matriz A y el vector b\u001b[0m\u001b[0;34m\u001b[0m\u001b[0;34m\u001b[0m\u001b[0m\n\u001b[1;32m     10\u001b[0m   \u001b[0;32mfor\u001b[0m \u001b[0mi\u001b[0m \u001b[0;32min\u001b[0m \u001b[0mrange\u001b[0m\u001b[0;34m(\u001b[0m\u001b[0mn\u001b[0m\u001b[0;34m)\u001b[0m\u001b[0;34m:\u001b[0m\u001b[0;34m\u001b[0m\u001b[0;34m\u001b[0m\u001b[0m\n\u001b[0;32m---> 11\u001b[0;31m     \u001b[0mA\u001b[0m\u001b[0;34m[\u001b[0m\u001b[0mi\u001b[0m\u001b[0;34m,\u001b[0m \u001b[0mi\u001b[0m\u001b[0;34m+\u001b[0m\u001b[0;36m1\u001b[0m\u001b[0;34m]\u001b[0m \u001b[0;34m=\u001b[0m \u001b[0;36m2\u001b[0m \u001b[0;34m*\u001b[0m \u001b[0mE\u001b[0m \u001b[0;34m*\u001b[0m \u001b[0mI\u001b[0m \u001b[0;34m/\u001b[0m \u001b[0mdx\u001b[0m\u001b[0;34m**\u001b[0m\u001b[0;36m2\u001b[0m  \u001b[0;31m# Diagonal principal\u001b[0m\u001b[0;34m\u001b[0m\u001b[0;34m\u001b[0m\u001b[0m\n\u001b[0m\u001b[1;32m     12\u001b[0m     \u001b[0;32mif\u001b[0m \u001b[0mi\u001b[0m \u001b[0;34m>\u001b[0m \u001b[0;36m0\u001b[0m\u001b[0;34m:\u001b[0m\u001b[0;34m\u001b[0m\u001b[0;34m\u001b[0m\u001b[0m\n\u001b[1;32m     13\u001b[0m       \u001b[0mA\u001b[0m\u001b[0;34m[\u001b[0m\u001b[0mi\u001b[0m\u001b[0;34m,\u001b[0m\u001b[0mi\u001b[0m\u001b[0;34m-\u001b[0m\u001b[0;36m1\u001b[0m\u001b[0;34m]\u001b[0m \u001b[0;34m=\u001b[0m \u001b[0;34m-\u001b[0m\u001b[0mE\u001b[0m \u001b[0;34m*\u001b[0m \u001b[0mI\u001b[0m \u001b[0;34m/\u001b[0m \u001b[0mdx\u001b[0m\u001b[0;34m**\u001b[0m\u001b[0;36m2\u001b[0m  \u001b[0;31m# Diagonal inferior\u001b[0m\u001b[0;34m\u001b[0m\u001b[0;34m\u001b[0m\u001b[0m\n",
            "\u001b[0;31mIndexError\u001b[0m: index 100 is out of bounds for axis 1 with size 100"
          ]
        }
      ],
      "source": [
        "# Gráfica\n",
        "x_disparo = t_puntos\n",
        "y_disparo = resultados_disparo\n",
        "\n",
        "x_finitas, y_finitas = dif_finitas(n)\n",
        "\n",
        "x_exacta = np.linspace(0, L, 100)\n",
        "y_exacta = sln_exacta(x_exacta)\n",
        "\n",
        "plt.plot(x_exacta, y_exacta, label=\"Solución Exacta\", color=\"r\")\n",
        "plt.plot(x_finitas, y_finitas, label=\"sln Diferencias Finitas\", color=\"green\")  # Cambiado a \"red\"\n",
        "plt.plot(x_disparo, y_disparo, label=\"sln Disparo Lineal\", linestyle=\"--\", color=\"b\")\n",
        "plt.title(\"Deflexión de la Viga\")\n",
        "plt.legend()\n",
        "plt.grid(True)\n",
        "plt.show()\n"
      ]
    }
  ],
  "metadata": {
    "colab": {
      "provenance": []
    },
    "kernelspec": {
      "display_name": "Python 3",
      "name": "python3"
    },
    "language_info": {
      "name": "python"
    }
  },
  "nbformat": 4,
  "nbformat_minor": 0
}
