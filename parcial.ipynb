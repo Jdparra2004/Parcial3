{
 "cells": [
  {
   "cell_type": "markdown",
   "metadata": {},
   "source": [
    "# Parcial 3 Métodos Númericos\n",
    "\n",
    "__Valentina Galindo Peña__\n",
    "\n",
    "*__ID__*: 000484044\n",
    "\n",
    "__Juan David Parra Cantor__\n",
    "\n",
    "*__ID__*: 000324320"
   ]
  },
  {
   "cell_type": "markdown",
   "metadata": {},
   "source": [
    "## Tema B\n",
    "\n",
    "Se plantea la ecuación:\n",
    "\n",
    "$$\n",
    "y'' = 2y' - y + xe^x - x\n",
    "$$\n",
    "\n",
    "Con condiciones de \n",
    "\n",
    "- y(0) = 0\n",
    "- y(2) = - 4\n",
    "- 0 $\\le$ x $\\le$ 2\n",
    "\n",
    "\n",
    "Y en el ejercicio se da la solución exacta:\n",
    "\n",
    "$$\n",
    "y(x) = \\frac{1}{6}(x^3e^x) - \\frac{5}{3}(xe^x) + 2e^x - x -2\n",
    "$$\n"
   ]
  },
  {
   "cell_type": "markdown",
   "metadata": {},
   "source": [
    "se deriva la anterior funcion inicia, una vez derivada se agrupan y vuelven a organizarse los terminos obteniendo que:\n",
    "$$\n",
    "y'= \\frac{1}{2}x^2e^x+\\frac{1}{3}e^x-1\n",
    "$$\n"
   ]
  },
  {
   "cell_type": "markdown",
   "metadata": {},
   "source": [
    "Ahora que tenemos la funcion inicial y su primera derivada podemos sustituir en la segunda derivada cancelando terminos y agrupando los que se puedan, quedandonos finalmente que la segunda derivada es:\n",
    "$$\n",
    "y''= \\frac{-4}{3}e^x + \\frac{8}{3}xe^x + x^2e^x- \\frac{1}{6}x^3e^x\n",
    "$$"
   ]
  },
  {
   "cell_type": "markdown",
   "metadata": {},
   "source": [
    "## Librerias"
   ]
  },
  {
   "cell_type": "code",
   "execution_count": null,
   "metadata": {
    "vscode": {
     "languageId": "plaintext"
    }
   },
   "outputs": [],
   "source": []
  },
  {
   "cell_type": "markdown",
   "metadata": {},
   "source": [
    "## Ecuaciones y condiciones de frontera"
   ]
  },
  {
   "cell_type": "code",
   "execution_count": null,
   "metadata": {
    "vscode": {
     "languageId": "plaintext"
    }
   },
   "outputs": [],
   "source": []
  },
  {
   "cell_type": "markdown",
   "metadata": {},
   "source": [
    "## Solucion exacta "
   ]
  },
  {
   "cell_type": "markdown",
   "metadata": {},
   "source": []
  },
  {
   "cell_type": "markdown",
   "metadata": {},
   "source": [
    "## Diferencias finitas"
   ]
  },
  {
   "cell_type": "code",
   "execution_count": null,
   "metadata": {
    "vscode": {
     "languageId": "plaintext"
    }
   },
   "outputs": [],
   "source": []
  },
  {
   "cell_type": "markdown",
   "metadata": {},
   "source": [
    "## Graficas "
   ]
  },
  {
   "cell_type": "markdown",
   "metadata": {},
   "source": []
  }
 ],
 "metadata": {
  "language_info": {
   "name": "python"
  }
 },
 "nbformat": 4,
 "nbformat_minor": 2
}
