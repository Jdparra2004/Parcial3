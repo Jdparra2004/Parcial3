{
 "cells": [
  {
   "cell_type": "markdown",
   "metadata": {},
   "source": [
    "# Parcial 3 Métodos Númericos\n",
    "\n",
    "__Valentina Galindo Peña__\n",
    "\n",
    "*__ID__*: 000484044\n",
    "\n",
    "__Juan David Parra Cantor__\n",
    "\n",
    "*__ID__*: 000324320"
   ]
  },
  {
   "cell_type": "markdown",
   "metadata": {},
   "source": [
    "## Tema B\n",
    "\n",
    "Se plantea la ecuación:\n",
    "\n",
    "$$\n",
    "y'' = 2y' - y + xe^x - x\n",
    "$$\n",
    "\n",
    "Con condiciones de \n",
    "\n",
    "- y(0) = 0\n",
    "- y(2) = - 4\n",
    "- 0 $\\le$ x $\\le$ 2\n",
    "\n",
    "\n",
    "Y en el ejercicio se da la solución exacta:\n",
    "\n",
    "$$\n",
    "y(x) = \\frac{1}{6}(x^3e^x) - \\frac{5}{3}(xe^x) + 2e^x - x -2\n",
    "$$\n"
   ]
  },
  {
   "cell_type": "markdown",
   "metadata": {},
   "source": []
  }
 ],
 "metadata": {
  "language_info": {
   "name": "python"
  }
 },
 "nbformat": 4,
 "nbformat_minor": 2
}
