{
 "cells": [
  {
   "cell_type": "markdown",
   "metadata": {},
   "source": [
    "# Parcial 3 Métodos Númericos\n",
    "\n",
    "__Valentina Galindo Peña__\n",
    "\n",
    "*__ID__*: 000484044\n",
    "\n",
    "__Juan David Parra Cantor__\n",
    "\n",
    "*__ID__*: 000324320"
   ]
  },
  {
   "cell_type": "markdown",
   "metadata": {},
   "source": []
  }
 ],
 "metadata": {
  "language_info": {
   "name": "python"
  }
 },
 "nbformat": 4,
 "nbformat_minor": 2
}
