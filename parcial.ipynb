{
 "cells": [
  {
   "cell_type": "markdown",
   "metadata": {},
   "source": [
    "# Parcial 3 Métodos Númericos\n",
    "\n",
    "__Valentina Galindo Peña__\n",
    "\n",
    "*__ID__*: 000484044\n",
    "\n",
    "__Juan David Parra Cantor__\n",
    "\n",
    "*__ID__*: 000324320"
   ]
  },
  {
   "cell_type": "markdown",
   "metadata": {},
   "source": [
    "## Tema B\n",
    "\n",
    "El planteamiento de la ecuación diferencial es:\n",
    "\n",
    "$$y'' = 2y' - y + xe^x - x$$\n",
    "\n",
    "con condiciones de frontera:\n",
    "\n",
    "$$-y(0) = 0$$\n",
    "\n",
    "$$y(2) = -4$$\n",
    "\n",
    "La solución exacta es:\n",
    "\n",
    "$$y(x) = \\frac{1}{6}x^3e^x - \\frac{5}{3}xe^x + 2e^x - x - 2$$\n",
    "\n",
    "Para implementar las diferencias finitas, necesitamos discretizar la ecuación diferencial. La discretización de la segunda derivada en diferencias finitas es:\n",
    "\n",
    "$$y''(x_i) \\approx \\frac{y(x_{i+1}) - 2y(x_i) + y(x_{i-1})}{h^2}$$\n",
    "\n",
    "donde $h$ es el tamaño del paso.\n",
    "\n",
    "La discretización de la primera derivada en diferencias finitas es:\n",
    "\n",
    "$$y'(x_i) \\approx \\frac{y(x_{i+1}) - y(x_{i-1})}{2h}$$\n",
    "\n",
    "Sustituyendo estas expresiones en la ecuación diferencial, obtenemos:\n",
    "\n",
    "$$\\frac{y(x_{i+1}) - 2y(x_i) + y(x_{i-1})}{h^2} = 2\\frac{y(x_{i+1}) - y(x_{i-1})}{2h} - y(x_i) + x_ie^{x_i} - x_i$$\n",
    "\n",
    "Simplificando y reordenando términos, obtenemos:\n",
    "\n",
    "$$y(x_{i+1}) - 2y(x_i) + y(x_{i-1}) = h^2(2\\frac{y(x_{i+1}) - y(x_{i-1})}{2h} - y(x_i) + x_ie^{x_i} - x_i)$$\n",
    "\n",
    "$$y(x_{i+1}) - 2y(x_i) + y(x_{i-1}) = h(2y(x_{i+1}) - 2y(x_{i-1}) - 3hy(x_i) + hx_ie^{x_i} - hx_i)$$\n",
    "\n",
    "Ahora, podemos construir la matriz A y el vector b utilizando estas expresiones."
   ]
  },
  {
   "cell_type": "markdown",
   "metadata": {},
   "source": [
    "## Librerias"
   ]
  },
  {
   "cell_type": "code",
   "execution_count": null,
   "metadata": {},
   "outputs": [],
   "source": [
    "#librerias\n",
    "import numpy as np\n",
    "import matplotlib.pyplot as plt\n",
    "from scipy.integrate import solve_bvp"
   ]
  },
  {
   "cell_type": "markdown",
   "metadata": {},
   "source": [
    "## Ecuaciones y condiciones de frontera"
   ]
  },
  {
   "cell_type": "code",
   "execution_count": null,
   "metadata": {},
   "outputs": [],
   "source": [
    "def ecuacion(x, y):\n",
    "    return np.array([y[1], 2*y[1] - y[0] + x*np.exp(x) - x])\n",
    "\n",
    "def condicion_frontera(ya, yb):\n",
    "    return np.array([ya[0], yb[0] - (-4)])"
   ]
  },
  {
   "cell_type": "markdown",
   "metadata": {},
   "source": [
    "## Solucion exacta "
   ]
  },
  {
   "cell_type": "code",
   "execution_count": null,
   "metadata": {},
   "outputs": [],
   "source": [
    "#solución exacta\n",
    "def solucion_exacta(x):\n",
    "    return (1/6)*x**3*np.exp(x) - (5/3)*x*np.exp(x) + 2*np.exp(x) - x - 2"
   ]
  },
  {
   "cell_type": "markdown",
   "metadata": {},
   "source": [
    "## Diferencias finitas"
   ]
  },
  {
   "cell_type": "code",
   "execution_count": null,
   "metadata": {},
   "outputs": [],
   "source": [
    "def diferencias_finitas(n_puntos):\n",
    "    \n",
    "    L = 2.0\n",
    "    h = L / (n_puntos + 1)  # Tamaño del paso\n",
    "    x = np.linspace(0, L, n_puntos + 2)  # Puntos x\n",
    "    y = np.zeros(n_puntos + 2)  # Inicializar el vector de soluciones\n",
    "    y[0] = 0  # Condición de frontera y(0) = 0\n",
    "    y[-1] = -4  # Condición de frontera y(2) = -4\n",
    "    \n",
    "    A = np.zeros((n_puntos, n_puntos))  # Matriz del sistema\n",
    "    b = np.zeros(n_puntos)  # Vector del lado derecho\n",
    "\n",
    "    for i in range(1, n_puntos + 1):\n",
    "        xi = x[i]  # Punto actual\n",
    "        # Construcción de la matriz A\n",
    "        A[i-1, i-1] = 2 + h  # Coeficiente de y[i]\n",
    "        if i > 1:\n",
    "            A[i-1, i-2] = -1  # Coeficiente de y[i-1]\n",
    "        if i < n_puntos:\n",
    "            A[i-1, i] = -1  # Coeficiente de y[i+1]\n",
    "        \n",
    "        # Construcción del vector b\n",
    "        b[i-1] = h**2 * xi * np.exp(xi) - h**2 * xi  # Término independiente\n",
    "\n",
    "    # Resolver el sistema de ecuaciones\n",
    "    y[1:-1] = np.linalg.solve(A, b)\n",
    "    \n",
    "    return x, y"
   ]
  },
  {
   "cell_type": "markdown",
   "metadata": {},
   "source": [
    "## Graficas "
   ]
  },
  {
   "cell_type": "markdown",
   "metadata": {},
   "source": [
    "__Grafico solucion numerica__"
   ]
  },
  {
   "cell_type": "code",
   "execution_count": null,
   "metadata": {},
   "outputs": [],
   "source": [
    "# Graficar los resultados\n",
    "x_exacta = np.linspace(0, 2, 100)\n",
    "y_exacta = solucion_exacta(x_exacta)\n",
    "\n",
    "x_finitas, y_finitas = diferencias_finitas(50)\n",
    "\n",
    "result = solve_bvp(ecuacion, condicion_frontera, np.linspace(0, 2, 100), np.zeros((2, 100)))\n",
    "x_bvp = result.x\n",
    "y_bvp = result.y\n",
    "\n",
    "plt.scatter(x_exacta, y_exacta, label='Solución exacta',  color='red')\n",
    "plt.plot(x_bvp, y_bvp[0], label='Solución BVP')\n",
    "plt.plot(x_finitas, y_finitas, label='Solución diferencias finitas')\n",
    "plt.legend()\n",
    "plt.show()"
   ]
  },
  {
   "cell_type": "markdown",
   "metadata": {},
   "source": [
    "## calculo del error global y local"
   ]
  },
  {
   "cell_type": "code",
   "execution_count": null,
   "metadata": {},
   "outputs": [],
   "source": [
    "# Calcular error local y global\n",
    "n_puntos = 50\n",
    "x, y_finitas = diferencias_finitas(n_puntos)\n",
    "x_exacta = np.linspace(0, 2, 100)\n",
    "y_exacta = solucion_exacta(x_exacta)\n",
    "\n",
    "error_local = np.abs(y_finitas - solucion_exacta(x))\n",
    "error_global = np.linalg.norm(error_local) / np.sqrt(n_puntos)"
   ]
  },
  {
   "cell_type": "markdown",
   "metadata": {},
   "source": [
    "__Grafico error global y error local__"
   ]
  },
  {
   "cell_type": "code",
   "execution_count": null,
   "metadata": {},
   "outputs": [],
   "source": [
    "# Graficar error local\n",
    "plt.plot(x, error_local)\n",
    "plt.xlabel('x')\n",
    "plt.ylabel('Error local')\n",
    "plt.title('Error local entre la solución exacta y la solución numérica')\n",
    "plt.show()\n",
    "\n",
    "# Graficar error global\n",
    "plt.plot([n_puntos], [error_global], 'o')\n",
    "plt.xlabel('Número de puntos')\n",
    "plt.ylabel('Error global')\n",
    "plt.title('Error global entre la solución exacta y la solución numérica')\n",
    "plt.show()"
   ]
  }
 ],
 "metadata": {
  "kernelspec": {
   "display_name": "Python 3",
   "language": "python",
   "name": "python3"
  },
  "language_info": {
   "codemirror_mode": {
    "name": "ipython",
    "version": 3
   },
   "file_extension": ".py",
   "mimetype": "text/x-python",
   "name": "python",
   "nbconvert_exporter": "python",
   "pygments_lexer": "ipython3",
   "version": "3.11.5"
  }
 },
 "nbformat": 4,
 "nbformat_minor": 2
}
