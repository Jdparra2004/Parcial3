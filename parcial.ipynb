{
 "cells": [
  {
   "cell_type": "markdown",
   "metadata": {},
   "source": [
    "# Parcial 3 Métodos Númericos\n",
    "\n",
    "__Valentina Galindo Peña__\n",
    "\n",
    "*__ID__*: 000484044\n",
    "\n",
    "__Juan David Parra Cantor__\n",
    "\n",
    "*__ID__*: 000324320"
   ]
  },
  {
   "cell_type": "markdown",
   "metadata": {},
   "source": [
    "## Tema B\n",
    "\n",
    "El planteamiento de la ecuación diferencial es:\n",
    "\n",
    "$$y'' = 2y' - y + xe^x - x$$\n",
    "\n",
    "con condiciones de frontera:\n",
    "\n",
    "$$-y(0) = 0$$\n",
    "\n",
    "$$y(2) = -4$$\n",
    "\n",
    "La solución exacta es:\n",
    "\n",
    "$$y(x) = \\frac{1}{6}x^3e^x - \\frac{5}{3}xe^x + 2e^x - x - 2$$\n",
    "\n",
    "Para implementar las diferencias finitas, necesitamos discretizar la ecuación diferencial. La discretización de la segunda derivada en diferencias finitas es:\n",
    "\n",
    "$$y''(x_i) \\approx \\frac{y(x_{i+1}) - 2y(x_i) + y(x_{i-1})}{h^2}$$\n",
    "\n",
    "donde $h$ es el tamaño del paso.\n",
    "\n",
    "La discretización de la primera derivada en diferencias finitas es:\n",
    "\n",
    "$$y'(x_i) \\approx \\frac{y(x_{i+1}) - y(x_{i-1})}{2h}$$\n",
    "\n",
    "Sustituyendo estas expresiones en la ecuación diferencial, obtenemos:\n",
    "\n",
    "$$\\frac{y(x_{i+1}) - 2y(x_i) + y(x_{i-1})}{h^2} = 2\\frac{y(x_{i+1}) - y(x_{i-1})}{2h} - y(x_i) + x_ie^{x_i} - x_i$$\n",
    "\n",
    "Simplificando y reordenando términos, obtenemos:\n",
    "\n",
    "$$y(x_{i+1}) - 2y(x_i) + y(x_{i-1}) = h^2(2\\frac{y(x_{i+1}) - y(x_{i-1})}{2h} - y(x_i) + x_ie^{x_i} - x_i)$$\n",
    "\n",
    "$$y(x_{i+1}) - 2y(x_i) + y(x_{i-1}) = h(2y(x_{i+1}) - 2y(x_{i-1}) - 3hy(x_i) + hx_ie^{x_i} - hx_i)$$\n",
    "\n",
    "Ahora, podemos construir la matriz A y el vector b utilizando estas expresiones."
   ]
  },
  {
   "cell_type": "markdown",
   "metadata": {},
   "source": [
    "## Librerias"
   ]
  },
  {
   "cell_type": "code",
   "execution_count": null,
   "metadata": {
    "vscode": {
     "languageId": "plaintext"
    }
   },
   "outputs": [],
   "source": []
  },
  {
   "cell_type": "markdown",
   "metadata": {},
   "source": [
    "## Ecuaciones y condiciones de frontera"
   ]
  },
  {
   "cell_type": "code",
   "execution_count": null,
   "metadata": {
    "vscode": {
     "languageId": "plaintext"
    }
   },
   "outputs": [],
   "source": []
  },
  {
   "cell_type": "markdown",
   "metadata": {},
   "source": [
    "## Solucion exacta "
   ]
  },
  {
   "cell_type": "markdown",
   "metadata": {},
   "source": []
  },
  {
   "cell_type": "markdown",
   "metadata": {},
   "source": [
    "## Diferencias finitas"
   ]
  },
  {
   "cell_type": "code",
   "execution_count": null,
   "metadata": {
    "vscode": {
     "languageId": "plaintext"
    }
   },
   "outputs": [],
   "source": []
  },
  {
   "cell_type": "markdown",
   "metadata": {},
   "source": [
    "## Graficas "
   ]
  },
  {
   "cell_type": "markdown",
   "metadata": {},
   "source": []
  }
 ],
 "metadata": {
  "language_info": {
   "name": "python"
  }
 },
 "nbformat": 4,
 "nbformat_minor": 2
}
